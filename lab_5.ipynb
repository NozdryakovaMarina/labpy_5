{
  "nbformat": 4,
  "nbformat_minor": 0,
  "metadata": {
    "colab": {
      "provenance": [],
      "gpuType": "T4",
      "mount_file_id": "10wmYAvF_xpBr2bdCNFuCSrl_mh3AswVs",
      "authorship_tag": "ABX9TyNFWoaqtx1zasFvZQ6IjCHJ",
      "include_colab_link": true
    },
    "kernelspec": {
      "name": "python3",
      "display_name": "Python 3"
    },
    "language_info": {
      "name": "python"
    },
    "accelerator": "GPU"
  },
  "cells": [
    {
      "cell_type": "markdown",
      "metadata": {
        "id": "view-in-github",
        "colab_type": "text"
      },
      "source": [
        "<a href=\"https://colab.research.google.com/github/NozdryakovaMarina/labpy_5/blob/main/lab_5.ipynb\" target=\"_parent\"><img src=\"https://colab.research.google.com/assets/colab-badge.svg\" alt=\"Open In Colab\"/></a>"
      ]
    },
    {
      "cell_type": "code",
      "execution_count": 9,
      "metadata": {
        "id": "6pwclKxbB8Qt"
      },
      "outputs": [],
      "source": [
        "import os\n",
        "import csv\n",
        "import random\n",
        "from typing import Any, Tuple, List\n",
        "\n",
        "import torch\n",
        "import torch.optim as optim\n",
        "from torch import nn\n",
        "from torch.utils.data import Dataset, DataLoader\n",
        "import torchvision\n",
        "import matplotlib.pyplot as plt\n",
        "import pandas as pd\n",
        "import numpy as np\n",
        "import cv2\n"
      ]
    },
    {
      "cell_type": "code",
      "source": [
        "from google.colab import drive\n",
        "drive.mount('/content/drive')"
      ],
      "metadata": {
        "colab": {
          "base_uri": "https://localhost:8080/"
        },
        "id": "48Z5mtwjpIKc",
        "outputId": "94856145-5e77-4242-a2a6-6bef645ea0e7"
      },
      "execution_count": 2,
      "outputs": [
        {
          "output_type": "stream",
          "name": "stdout",
          "text": [
            "Drive already mounted at /content/drive; to attempt to forcibly remount, call drive.mount(\"/content/drive\", force_remount=True).\n"
          ]
        }
      ]
    },
    {
      "cell_type": "code",
      "source": [
        "class ImageDataset(Dataset):\n",
        "  def __init__(self, path_to_annotation_file: str, transform: Any=None, train: bool=False, test: bool=False, valid: bool=False) -> None:\n",
        "    self.path_to_annotation_file = path_to_annotation_file\n",
        "    self.data = self.get_data(path_to_annotation_file, train, test, valid)\n",
        "    self.transform = transform\n",
        "\n",
        "  def get_data(self, path_to_annotation_file: str, train: bool=False, test: bool=False, valid: bool=False) -> pd.DataFrame:\n",
        "    data = pd.read_csv(path_to_annotation_file, usecols=(0, 2), names = ('path_to_iamge', 'label'))\n",
        "    data = data.sample(frac=1).reset_index(drop=True)\n",
        "    data['label'] = data['label'].apply(lambda l: 0 if l == 'polarbear' else 1)\n",
        "    train_size = int(0.8 * data.shape[0])\n",
        "    test_valid_size = int(0.1 * data.shape[0])\n",
        "    if train == True:\n",
        "      data = data.iloc[:train_size, :]\n",
        "    elif test == True:\n",
        "      data = data.iloc[train_size:train_size + test_valid_size, :]\n",
        "    elif valid == True:\n",
        "      data = data.iloc[train_size + test_valid_size:, :]\n",
        "    return data\n",
        "\n",
        "  def __len__(self) -> int:\n",
        "    return len(self.data)\n",
        "\n",
        "  def __getitem__(self, index: int) -> Tuple[torch.tensor, int]:\n",
        "    path_to_image = self.data.iloc[index, 0]\n",
        "    image = cv2.cvtColor(cv2.imread(path_to_image), cv2.COLOR_BGR2RGB)\n",
        "    label = self.data.iloc[index, 1]\n",
        "\n",
        "    if self.transform:\n",
        "      image = self.transform(image)\n",
        "\n",
        "    return image, label\n",
        ""
      ],
      "metadata": {
        "id": "peEIoKv3DisZ"
      },
      "execution_count": 7,
      "outputs": []
    },
    {
      "cell_type": "code",
      "source": [
        "transforms = torchvision.transforms.Compose([torchvision.transforms.ToTensor(),\n",
        "                                                    torchvision.transforms.Resize((224, 224)),\n",
        "                                                    torchvision.transforms.Normalize((0.485, 0.456, 0.406), (0.229, 0.224, 0.225)),\n",
        "                                                    torchvision.transforms.RandomHorizontalFlip(p=0.5)])"
      ],
      "metadata": {
        "id": "JzGDuh5DDrg9"
      },
      "execution_count": 10,
      "outputs": []
    },
    {
      "cell_type": "code",
      "source": [
        "train_data = ImageDataset(path_to_annotation_file='/content/drive/MyDrive/lab_py5/annotation.csv', transform=transforms, train = True)\n",
        "test_data = ImageDataset(path_to_annotation_file='/content/drive/MyDrive/lab_py5/annotation.csv', transform=transforms, test = True)\n",
        "valid_data = ImageDataset(path_to_annotation_file='/content/drive/MyDrive/lab_py5/annotation.csv', transform=transforms, valid = True)"
      ],
      "metadata": {
        "id": "y-Rud_NS5FhC"
      },
      "execution_count": 11,
      "outputs": []
    },
    {
      "cell_type": "code",
      "source": [
        "len(train_data), len(test_data), len(valid_data)"
      ],
      "metadata": {
        "colab": {
          "base_uri": "https://localhost:8080/"
        },
        "id": "tHiPjnYg5Tea",
        "outputId": "6ca519ef-d2bb-4b16-d2a4-e256a763c2f5"
      },
      "execution_count": 12,
      "outputs": [
        {
          "output_type": "execute_result",
          "data": {
            "text/plain": [
              "(1763, 220, 221)"
            ]
          },
          "metadata": {},
          "execution_count": 12
        }
      ]
    },
    {
      "cell_type": "code",
      "source": [
        "train_data.data['label'].value_counts()"
      ],
      "metadata": {
        "colab": {
          "base_uri": "https://localhost:8080/"
        },
        "id": "vww2_U7R5m0d",
        "outputId": "2095bd31-31ab-435d-c0b4-014ca8bf68c6"
      },
      "execution_count": 13,
      "outputs": [
        {
          "output_type": "execute_result",
          "data": {
            "text/plain": [
              "1    1763\n",
              "Name: label, dtype: int64"
            ]
          },
          "metadata": {},
          "execution_count": 13
        }
      ]
    },
    {
      "cell_type": "code",
      "source": [
        "test_data.data['label'].value_counts()"
      ],
      "metadata": {
        "colab": {
          "base_uri": "https://localhost:8080/"
        },
        "id": "7gpGapA75ohR",
        "outputId": "69a4244b-bb28-4e7b-baea-46705e1dc3f8"
      },
      "execution_count": 14,
      "outputs": [
        {
          "output_type": "execute_result",
          "data": {
            "text/plain": [
              "1    220\n",
              "Name: label, dtype: int64"
            ]
          },
          "metadata": {},
          "execution_count": 14
        }
      ]
    },
    {
      "cell_type": "code",
      "source": [
        "valid_data.data['label'].value_counts()"
      ],
      "metadata": {
        "colab": {
          "base_uri": "https://localhost:8080/"
        },
        "id": "gGGCnHV45okr",
        "outputId": "bacb386e-94a7-4cba-fc9b-69fea50430da"
      },
      "execution_count": 15,
      "outputs": [
        {
          "output_type": "execute_result",
          "data": {
            "text/plain": [
              "1    221\n",
              "Name: label, dtype: int64"
            ]
          },
          "metadata": {},
          "execution_count": 15
        }
      ]
    }
  ]
}